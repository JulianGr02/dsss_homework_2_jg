{
  "cells": [
    {
      "cell_type": "markdown",
      "metadata": {
        "id": "view-in-github",
        "colab_type": "text"
      },
      "source": [
        "<a href=\"https://colab.research.google.com/github/JulianGr02/dsss_homework_2_jg/blob/main/exercise-10.ipynb\" target=\"_parent\"><img src=\"https://colab.research.google.com/assets/colab-badge.svg\" alt=\"Open In Colab\"/></a>"
      ]
    },
    {
      "cell_type": "markdown",
      "metadata": {
        "id": "45wU8shgmhwW"
      },
      "source": [
        "<div class=\"alert-block alert-info alert\"> Hello! If this is your first assignment please read the following instructions:\n",
        "\n",
        "Read the questions carefully and code what is asked in the respective code block whenever you see a ``` #TODO: YOUR CODE HERE. ```\n",
        "It is important to do the Coding tasks IN ORDER, as the majority of coding blocks are dependent on the\n",
        "previous coding blocks in the notebook.\n",
        "Please also note that there is a **raise NotImplementedError()** for each task or function you have to\n",
        "implement, so don't forget to remove it before testing your code, otherwise you will always get a \"not\n",
        "implemented\" error.\n",
        "\n",
        "You need to install required python packages before executing your codes. Simply run the block below to install it in the Colab environment of your Google account. Rerun the block when you are not sure they are properly installed.\n",
        "\n",
        "You need to manually upload the data used in this exercise to Colab. Just create a folder 'data' and paste the respective files into this folder. Otherwise, you will get a 'File not found' error. You can find the data in StudOn.\n",
        "\n",
        "Aside from coding blocks, there are also testing blocks to check whether your implementations\n",
        "are correct, you can run them but do not change the code inside of them.\n",
        "The tests are determined via the ASSERT STATEMENTS that you see on the testing blocks, which can help you\n",
        "out during the coding of the exercises. If you pass all the visible asserts, you will probably get a good\n",
        "grade on the exercise, just remember that there are also hidden tests, so hardcoding the assert statements\n",
        "won't help you.\n",
        "\n",
        "REMEMBER: This Colab notebook DOES NOT HAVE AN AUTOSAVE FUNCTION, so whenever you want to close it, please\n",
        "remember to save it by clicking on the \"file\" tab in the upper left corner of the page, followed by\n",
        "clicking on the \"Save a copy to GitHub\" button and selecting your corresponding GitHub repository:\n",
        "\"madlab-biosig/exercise-x-YourGitHubUsername\"\n",
        "\n",
        "Before you save the final version of your assignment, please make sure everything runs as expected.\n",
        "First, **restart the kernel** (in the menubar, select Kernel$\\rightarrow$Restart) and then **run all\n",
        "cells** (in the menubar, select Cell$\\rightarrow$Run All).\n",
        "</div>"
      ]
    },
    {
      "cell_type": "code",
      "execution_count": 1,
      "metadata": {
        "id": "DgPHrKAYmhwa",
        "outputId": "3de3e190-56a4-4ea4-bd2e-7b8612fcd694",
        "colab": {
          "base_uri": "https://localhost:8080/"
        }
      },
      "outputs": [
        {
          "output_type": "stream",
          "name": "stdout",
          "text": [
            "Requirement already satisfied: pandas in /usr/local/lib/python3.10/dist-packages (2.2.2)\n",
            "Collecting scipy==1.10\n",
            "  Downloading scipy-1.10.0-cp310-cp310-manylinux_2_17_x86_64.manylinux2014_x86_64.whl.metadata (58 kB)\n",
            "\u001b[2K     \u001b[90m━━━━━━━━━━━━━━━━━━━━━━━━━━━━━━━━━━━━━━━━\u001b[0m \u001b[32m58.9/58.9 kB\u001b[0m \u001b[31m2.6 MB/s\u001b[0m eta \u001b[36m0:00:00\u001b[0m\n",
            "\u001b[?25hCollecting h5py==3.9.0\n",
            "  Downloading h5py-3.9.0-cp310-cp310-manylinux_2_17_x86_64.manylinux2014_x86_64.whl.metadata (2.5 kB)\n",
            "Requirement already satisfied: seaborn==0.13.2 in /usr/local/lib/python3.10/dist-packages (0.13.2)\n",
            "Collecting scikit-learn==1.3.0\n",
            "  Downloading scikit_learn-1.3.0-cp310-cp310-manylinux_2_17_x86_64.manylinux2014_x86_64.whl.metadata (11 kB)\n",
            "Requirement already satisfied: ipywidgets in /usr/local/lib/python3.10/dist-packages (7.7.1)\n",
            "Collecting ipympl\n",
            "  Downloading ipympl-0.9.6-py3-none-any.whl.metadata (8.7 kB)\n",
            "Requirement already satisfied: numpy<1.27.0,>=1.19.5 in /usr/local/lib/python3.10/dist-packages (from scipy==1.10) (1.26.4)\n",
            "Requirement already satisfied: matplotlib!=3.6.1,>=3.4 in /usr/local/lib/python3.10/dist-packages (from seaborn==0.13.2) (3.8.0)\n",
            "Requirement already satisfied: joblib>=1.1.1 in /usr/local/lib/python3.10/dist-packages (from scikit-learn==1.3.0) (1.4.2)\n",
            "Requirement already satisfied: threadpoolctl>=2.0.0 in /usr/local/lib/python3.10/dist-packages (from scikit-learn==1.3.0) (3.5.0)\n",
            "Requirement already satisfied: python-dateutil>=2.8.2 in /usr/local/lib/python3.10/dist-packages (from pandas) (2.8.2)\n",
            "Requirement already satisfied: pytz>=2020.1 in /usr/local/lib/python3.10/dist-packages (from pandas) (2024.2)\n",
            "Requirement already satisfied: tzdata>=2022.7 in /usr/local/lib/python3.10/dist-packages (from pandas) (2024.2)\n",
            "Requirement already satisfied: ipykernel>=4.5.1 in /usr/local/lib/python3.10/dist-packages (from ipywidgets) (5.5.6)\n",
            "Requirement already satisfied: ipython-genutils~=0.2.0 in /usr/local/lib/python3.10/dist-packages (from ipywidgets) (0.2.0)\n",
            "Requirement already satisfied: traitlets>=4.3.1 in /usr/local/lib/python3.10/dist-packages (from ipywidgets) (5.7.1)\n",
            "Requirement already satisfied: widgetsnbextension~=3.6.0 in /usr/local/lib/python3.10/dist-packages (from ipywidgets) (3.6.10)\n",
            "Requirement already satisfied: ipython>=4.0.0 in /usr/local/lib/python3.10/dist-packages (from ipywidgets) (7.34.0)\n",
            "Requirement already satisfied: jupyterlab-widgets>=1.0.0 in /usr/local/lib/python3.10/dist-packages (from ipywidgets) (3.0.13)\n",
            "Requirement already satisfied: pillow in /usr/local/lib/python3.10/dist-packages (from ipympl) (11.0.0)\n",
            "Requirement already satisfied: jupyter-client in /usr/local/lib/python3.10/dist-packages (from ipykernel>=4.5.1->ipywidgets) (6.1.12)\n",
            "Requirement already satisfied: tornado>=4.2 in /usr/local/lib/python3.10/dist-packages (from ipykernel>=4.5.1->ipywidgets) (6.3.3)\n",
            "Requirement already satisfied: setuptools>=18.5 in /usr/local/lib/python3.10/dist-packages (from ipython>=4.0.0->ipywidgets) (75.1.0)\n",
            "Collecting jedi>=0.16 (from ipython>=4.0.0->ipywidgets)\n",
            "  Downloading jedi-0.19.2-py2.py3-none-any.whl.metadata (22 kB)\n",
            "Requirement already satisfied: decorator in /usr/local/lib/python3.10/dist-packages (from ipython>=4.0.0->ipywidgets) (4.4.2)\n",
            "Requirement already satisfied: pickleshare in /usr/local/lib/python3.10/dist-packages (from ipython>=4.0.0->ipywidgets) (0.7.5)\n",
            "Requirement already satisfied: prompt-toolkit!=3.0.0,!=3.0.1,<3.1.0,>=2.0.0 in /usr/local/lib/python3.10/dist-packages (from ipython>=4.0.0->ipywidgets) (3.0.48)\n",
            "Requirement already satisfied: pygments in /usr/local/lib/python3.10/dist-packages (from ipython>=4.0.0->ipywidgets) (2.18.0)\n",
            "Requirement already satisfied: backcall in /usr/local/lib/python3.10/dist-packages (from ipython>=4.0.0->ipywidgets) (0.2.0)\n",
            "Requirement already satisfied: matplotlib-inline in /usr/local/lib/python3.10/dist-packages (from ipython>=4.0.0->ipywidgets) (0.1.7)\n",
            "Requirement already satisfied: pexpect>4.3 in /usr/local/lib/python3.10/dist-packages (from ipython>=4.0.0->ipywidgets) (4.9.0)\n",
            "Requirement already satisfied: contourpy>=1.0.1 in /usr/local/lib/python3.10/dist-packages (from matplotlib!=3.6.1,>=3.4->seaborn==0.13.2) (1.3.1)\n",
            "Requirement already satisfied: cycler>=0.10 in /usr/local/lib/python3.10/dist-packages (from matplotlib!=3.6.1,>=3.4->seaborn==0.13.2) (0.12.1)\n",
            "Requirement already satisfied: fonttools>=4.22.0 in /usr/local/lib/python3.10/dist-packages (from matplotlib!=3.6.1,>=3.4->seaborn==0.13.2) (4.55.3)\n",
            "Requirement already satisfied: kiwisolver>=1.0.1 in /usr/local/lib/python3.10/dist-packages (from matplotlib!=3.6.1,>=3.4->seaborn==0.13.2) (1.4.7)\n",
            "Requirement already satisfied: packaging>=20.0 in /usr/local/lib/python3.10/dist-packages (from matplotlib!=3.6.1,>=3.4->seaborn==0.13.2) (24.2)\n",
            "Requirement already satisfied: pyparsing>=2.3.1 in /usr/local/lib/python3.10/dist-packages (from matplotlib!=3.6.1,>=3.4->seaborn==0.13.2) (3.2.0)\n",
            "Requirement already satisfied: six>=1.5 in /usr/local/lib/python3.10/dist-packages (from python-dateutil>=2.8.2->pandas) (1.17.0)\n",
            "Requirement already satisfied: notebook>=4.4.1 in /usr/local/lib/python3.10/dist-packages (from widgetsnbextension~=3.6.0->ipywidgets) (6.5.5)\n",
            "Requirement already satisfied: parso<0.9.0,>=0.8.4 in /usr/local/lib/python3.10/dist-packages (from jedi>=0.16->ipython>=4.0.0->ipywidgets) (0.8.4)\n",
            "Requirement already satisfied: jinja2 in /usr/local/lib/python3.10/dist-packages (from notebook>=4.4.1->widgetsnbextension~=3.6.0->ipywidgets) (3.1.4)\n",
            "Requirement already satisfied: pyzmq<25,>=17 in /usr/local/lib/python3.10/dist-packages (from notebook>=4.4.1->widgetsnbextension~=3.6.0->ipywidgets) (24.0.1)\n",
            "Requirement already satisfied: argon2-cffi in /usr/local/lib/python3.10/dist-packages (from notebook>=4.4.1->widgetsnbextension~=3.6.0->ipywidgets) (23.1.0)\n",
            "Requirement already satisfied: jupyter-core>=4.6.1 in /usr/local/lib/python3.10/dist-packages (from notebook>=4.4.1->widgetsnbextension~=3.6.0->ipywidgets) (5.7.2)\n",
            "Requirement already satisfied: nbformat in /usr/local/lib/python3.10/dist-packages (from notebook>=4.4.1->widgetsnbextension~=3.6.0->ipywidgets) (5.10.4)\n",
            "Requirement already satisfied: nbconvert>=5 in /usr/local/lib/python3.10/dist-packages (from notebook>=4.4.1->widgetsnbextension~=3.6.0->ipywidgets) (7.16.4)\n",
            "Requirement already satisfied: nest-asyncio>=1.5 in /usr/local/lib/python3.10/dist-packages (from notebook>=4.4.1->widgetsnbextension~=3.6.0->ipywidgets) (1.6.0)\n",
            "Requirement already satisfied: Send2Trash>=1.8.0 in /usr/local/lib/python3.10/dist-packages (from notebook>=4.4.1->widgetsnbextension~=3.6.0->ipywidgets) (1.8.3)\n",
            "Requirement already satisfied: terminado>=0.8.3 in /usr/local/lib/python3.10/dist-packages (from notebook>=4.4.1->widgetsnbextension~=3.6.0->ipywidgets) (0.18.1)\n",
            "Requirement already satisfied: prometheus-client in /usr/local/lib/python3.10/dist-packages (from notebook>=4.4.1->widgetsnbextension~=3.6.0->ipywidgets) (0.21.1)\n",
            "Requirement already satisfied: nbclassic>=0.4.7 in /usr/local/lib/python3.10/dist-packages (from notebook>=4.4.1->widgetsnbextension~=3.6.0->ipywidgets) (1.1.0)\n",
            "Requirement already satisfied: ptyprocess>=0.5 in /usr/local/lib/python3.10/dist-packages (from pexpect>4.3->ipython>=4.0.0->ipywidgets) (0.7.0)\n",
            "Requirement already satisfied: wcwidth in /usr/local/lib/python3.10/dist-packages (from prompt-toolkit!=3.0.0,!=3.0.1,<3.1.0,>=2.0.0->ipython>=4.0.0->ipywidgets) (0.2.13)\n",
            "Requirement already satisfied: platformdirs>=2.5 in /usr/local/lib/python3.10/dist-packages (from jupyter-core>=4.6.1->notebook>=4.4.1->widgetsnbextension~=3.6.0->ipywidgets) (4.3.6)\n",
            "Requirement already satisfied: notebook-shim>=0.2.3 in /usr/local/lib/python3.10/dist-packages (from nbclassic>=0.4.7->notebook>=4.4.1->widgetsnbextension~=3.6.0->ipywidgets) (0.2.4)\n",
            "Requirement already satisfied: beautifulsoup4 in /usr/local/lib/python3.10/dist-packages (from nbconvert>=5->notebook>=4.4.1->widgetsnbextension~=3.6.0->ipywidgets) (4.12.3)\n",
            "Requirement already satisfied: bleach!=5.0.0 in /usr/local/lib/python3.10/dist-packages (from nbconvert>=5->notebook>=4.4.1->widgetsnbextension~=3.6.0->ipywidgets) (6.2.0)\n",
            "Requirement already satisfied: defusedxml in /usr/local/lib/python3.10/dist-packages (from nbconvert>=5->notebook>=4.4.1->widgetsnbextension~=3.6.0->ipywidgets) (0.7.1)\n",
            "Requirement already satisfied: jupyterlab-pygments in /usr/local/lib/python3.10/dist-packages (from nbconvert>=5->notebook>=4.4.1->widgetsnbextension~=3.6.0->ipywidgets) (0.3.0)\n",
            "Requirement already satisfied: markupsafe>=2.0 in /usr/local/lib/python3.10/dist-packages (from nbconvert>=5->notebook>=4.4.1->widgetsnbextension~=3.6.0->ipywidgets) (3.0.2)\n",
            "Requirement already satisfied: mistune<4,>=2.0.3 in /usr/local/lib/python3.10/dist-packages (from nbconvert>=5->notebook>=4.4.1->widgetsnbextension~=3.6.0->ipywidgets) (3.0.2)\n",
            "Requirement already satisfied: nbclient>=0.5.0 in /usr/local/lib/python3.10/dist-packages (from nbconvert>=5->notebook>=4.4.1->widgetsnbextension~=3.6.0->ipywidgets) (0.10.1)\n",
            "Requirement already satisfied: pandocfilters>=1.4.1 in /usr/local/lib/python3.10/dist-packages (from nbconvert>=5->notebook>=4.4.1->widgetsnbextension~=3.6.0->ipywidgets) (1.5.1)\n",
            "Requirement already satisfied: tinycss2 in /usr/local/lib/python3.10/dist-packages (from nbconvert>=5->notebook>=4.4.1->widgetsnbextension~=3.6.0->ipywidgets) (1.4.0)\n",
            "Requirement already satisfied: fastjsonschema>=2.15 in /usr/local/lib/python3.10/dist-packages (from nbformat->notebook>=4.4.1->widgetsnbextension~=3.6.0->ipywidgets) (2.21.1)\n",
            "Requirement already satisfied: jsonschema>=2.6 in /usr/local/lib/python3.10/dist-packages (from nbformat->notebook>=4.4.1->widgetsnbextension~=3.6.0->ipywidgets) (4.23.0)\n",
            "Requirement already satisfied: argon2-cffi-bindings in /usr/local/lib/python3.10/dist-packages (from argon2-cffi->notebook>=4.4.1->widgetsnbextension~=3.6.0->ipywidgets) (21.2.0)\n",
            "Requirement already satisfied: webencodings in /usr/local/lib/python3.10/dist-packages (from bleach!=5.0.0->nbconvert>=5->notebook>=4.4.1->widgetsnbextension~=3.6.0->ipywidgets) (0.5.1)\n",
            "Requirement already satisfied: attrs>=22.2.0 in /usr/local/lib/python3.10/dist-packages (from jsonschema>=2.6->nbformat->notebook>=4.4.1->widgetsnbextension~=3.6.0->ipywidgets) (24.3.0)\n",
            "Requirement already satisfied: jsonschema-specifications>=2023.03.6 in /usr/local/lib/python3.10/dist-packages (from jsonschema>=2.6->nbformat->notebook>=4.4.1->widgetsnbextension~=3.6.0->ipywidgets) (2024.10.1)\n",
            "Requirement already satisfied: referencing>=0.28.4 in /usr/local/lib/python3.10/dist-packages (from jsonschema>=2.6->nbformat->notebook>=4.4.1->widgetsnbextension~=3.6.0->ipywidgets) (0.35.1)\n",
            "Requirement already satisfied: rpds-py>=0.7.1 in /usr/local/lib/python3.10/dist-packages (from jsonschema>=2.6->nbformat->notebook>=4.4.1->widgetsnbextension~=3.6.0->ipywidgets) (0.22.3)\n",
            "Requirement already satisfied: jupyter-server<3,>=1.8 in /usr/local/lib/python3.10/dist-packages (from notebook-shim>=0.2.3->nbclassic>=0.4.7->notebook>=4.4.1->widgetsnbextension~=3.6.0->ipywidgets) (1.24.0)\n",
            "Requirement already satisfied: cffi>=1.0.1 in /usr/local/lib/python3.10/dist-packages (from argon2-cffi-bindings->argon2-cffi->notebook>=4.4.1->widgetsnbextension~=3.6.0->ipywidgets) (1.17.1)\n",
            "Requirement already satisfied: soupsieve>1.2 in /usr/local/lib/python3.10/dist-packages (from beautifulsoup4->nbconvert>=5->notebook>=4.4.1->widgetsnbextension~=3.6.0->ipywidgets) (2.6)\n",
            "Requirement already satisfied: pycparser in /usr/local/lib/python3.10/dist-packages (from cffi>=1.0.1->argon2-cffi-bindings->argon2-cffi->notebook>=4.4.1->widgetsnbextension~=3.6.0->ipywidgets) (2.22)\n",
            "Requirement already satisfied: anyio<4,>=3.1.0 in /usr/local/lib/python3.10/dist-packages (from jupyter-server<3,>=1.8->notebook-shim>=0.2.3->nbclassic>=0.4.7->notebook>=4.4.1->widgetsnbextension~=3.6.0->ipywidgets) (3.7.1)\n",
            "Requirement already satisfied: websocket-client in /usr/local/lib/python3.10/dist-packages (from jupyter-server<3,>=1.8->notebook-shim>=0.2.3->nbclassic>=0.4.7->notebook>=4.4.1->widgetsnbextension~=3.6.0->ipywidgets) (1.8.0)\n",
            "Requirement already satisfied: idna>=2.8 in /usr/local/lib/python3.10/dist-packages (from anyio<4,>=3.1.0->jupyter-server<3,>=1.8->notebook-shim>=0.2.3->nbclassic>=0.4.7->notebook>=4.4.1->widgetsnbextension~=3.6.0->ipywidgets) (3.10)\n",
            "Requirement already satisfied: sniffio>=1.1 in /usr/local/lib/python3.10/dist-packages (from anyio<4,>=3.1.0->jupyter-server<3,>=1.8->notebook-shim>=0.2.3->nbclassic>=0.4.7->notebook>=4.4.1->widgetsnbextension~=3.6.0->ipywidgets) (1.3.1)\n",
            "Requirement already satisfied: exceptiongroup in /usr/local/lib/python3.10/dist-packages (from anyio<4,>=3.1.0->jupyter-server<3,>=1.8->notebook-shim>=0.2.3->nbclassic>=0.4.7->notebook>=4.4.1->widgetsnbextension~=3.6.0->ipywidgets) (1.2.2)\n",
            "Downloading scipy-1.10.0-cp310-cp310-manylinux_2_17_x86_64.manylinux2014_x86_64.whl (34.4 MB)\n",
            "\u001b[2K   \u001b[90m━━━━━━━━━━━━━━━━━━━━━━━━━━━━━━━━━━━━━━━━\u001b[0m \u001b[32m34.4/34.4 MB\u001b[0m \u001b[31m45.3 MB/s\u001b[0m eta \u001b[36m0:00:00\u001b[0m\n",
            "\u001b[?25hDownloading h5py-3.9.0-cp310-cp310-manylinux_2_17_x86_64.manylinux2014_x86_64.whl (4.8 MB)\n",
            "\u001b[2K   \u001b[90m━━━━━━━━━━━━━━━━━━━━━━━━━━━━━━━━━━━━━━━━\u001b[0m \u001b[32m4.8/4.8 MB\u001b[0m \u001b[31m70.8 MB/s\u001b[0m eta \u001b[36m0:00:00\u001b[0m\n",
            "\u001b[?25hDownloading scikit_learn-1.3.0-cp310-cp310-manylinux_2_17_x86_64.manylinux2014_x86_64.whl (10.8 MB)\n",
            "\u001b[2K   \u001b[90m━━━━━━━━━━━━━━━━━━━━━━━━━━━━━━━━━━━━━━━━\u001b[0m \u001b[32m10.8/10.8 MB\u001b[0m \u001b[31m93.4 MB/s\u001b[0m eta \u001b[36m0:00:00\u001b[0m\n",
            "\u001b[?25hDownloading ipympl-0.9.6-py3-none-any.whl (515 kB)\n",
            "\u001b[2K   \u001b[90m━━━━━━━━━━━━━━━━━━━━━━━━━━━━━━━━━━━━━━━━\u001b[0m \u001b[32m515.7/515.7 kB\u001b[0m \u001b[31m29.4 MB/s\u001b[0m eta \u001b[36m0:00:00\u001b[0m\n",
            "\u001b[?25hDownloading jedi-0.19.2-py2.py3-none-any.whl (1.6 MB)\n",
            "\u001b[2K   \u001b[90m━━━━━━━━━━━━━━━━━━━━━━━━━━━━━━━━━━━━━━━━\u001b[0m \u001b[32m1.6/1.6 MB\u001b[0m \u001b[31m62.4 MB/s\u001b[0m eta \u001b[36m0:00:00\u001b[0m\n",
            "\u001b[?25hInstalling collected packages: scipy, jedi, h5py, scikit-learn, ipympl\n",
            "  Attempting uninstall: scipy\n",
            "    Found existing installation: scipy 1.13.1\n",
            "    Uninstalling scipy-1.13.1:\n",
            "      Successfully uninstalled scipy-1.13.1\n",
            "  Attempting uninstall: h5py\n",
            "    Found existing installation: h5py 3.12.1\n",
            "    Uninstalling h5py-3.12.1:\n",
            "      Successfully uninstalled h5py-3.12.1\n",
            "  Attempting uninstall: scikit-learn\n",
            "    Found existing installation: scikit-learn 1.6.0\n",
            "    Uninstalling scikit-learn-1.6.0:\n",
            "      Successfully uninstalled scikit-learn-1.6.0\n",
            "\u001b[31mERROR: pip's dependency resolver does not currently take into account all the packages that are installed. This behaviour is the source of the following dependency conflicts.\n",
            "mlxtend 0.23.3 requires scikit-learn>=1.3.1, but you have scikit-learn 1.3.0 which is incompatible.\n",
            "scikit-image 0.25.0 requires scipy>=1.11.2, but you have scipy 1.10.0 which is incompatible.\n",
            "tensorflow 2.17.1 requires h5py>=3.10.0, but you have h5py 3.9.0 which is incompatible.\u001b[0m\u001b[31m\n",
            "\u001b[0mSuccessfully installed h5py-3.9.0 ipympl-0.9.6 jedi-0.19.2 scikit-learn-1.3.0 scipy-1.10.0\n"
          ]
        }
      ],
      "source": [
        "!pip install pandas scipy==1.10 h5py==3.9.0 seaborn==0.13.2 scikit-learn==1.3.0 ipywidgets ipympl"
      ]
    },
    {
      "cell_type": "code",
      "execution_count": 2,
      "metadata": {
        "id": "jvybJ_ODmhwb"
      },
      "outputs": [],
      "source": [
        "from ipywidgets import Widget\n",
        "Widget.close_all()"
      ]
    },
    {
      "cell_type": "markdown",
      "metadata": {
        "deletable": false,
        "editable": false,
        "nbgrader": {
          "cell_type": "markdown",
          "checksum": "be859610860f89728ee7b9db75796580",
          "grade": false,
          "grade_id": "cell-aca1a6196494bdda",
          "locked": true,
          "schema_version": 3,
          "solution": false,
          "task": false
        },
        "tags": [],
        "id": "7E68HDiJmhwb"
      },
      "source": [
        "### BioSig Exercises WS 24/25\n",
        "---"
      ]
    },
    {
      "cell_type": "markdown",
      "metadata": {
        "id": "lLGLdu29mhwb"
      },
      "source": [
        "# Exercise 10"
      ]
    },
    {
      "cell_type": "code",
      "execution_count": 3,
      "metadata": {
        "is_executing": true,
        "id": "ixoj_6ufmhwb"
      },
      "outputs": [],
      "source": [
        "# Imports and basic setup\n",
        "### UNCOMMENT THE CORRECT ONE\n",
        "# If you are using Jupyter Lab\n",
        "#%matplotlib widget\n",
        "\n",
        "# If you are using Jupyter Notebook\n",
        "# %matplotlib notebook\n",
        "\n",
        "import matplotlib.pyplot as plt\n",
        "plt.rcParams.update({'figure.max_open_warning': 40})\n",
        "import pandas as pd\n",
        "import numpy as np\n",
        "from pathlib import Path\n",
        "from scipy import signal"
      ]
    },
    {
      "cell_type": "markdown",
      "metadata": {
        "id": "K9kCgYgRmhwc"
      },
      "source": [
        "## Ex 10.1: Pan-Tompkins 2 - Combining the filters and correcting shifts\n",
        "In last exercise we implemented all filter stages of the Pan-Tompkins algorithm.\n",
        "Now we want to combine them to easily apply the algorithm to multiple signals.\n",
        "\n",
        "a) Create a function that applies all filter stages of the Pan Tompkins one after the other.\n",
        "\n",
        "b) Look at the lecture (or the paper from Pan and Tompkins) and look up the delay of each individual filter stage.\n",
        "Implement a correction for this shift into your filter function. Verify the result using one of the example data files.\n",
        "\n",
        "Note, that the Pan-Tompkins Algorithm does **not** correct the group-delay of the final MA-filter (half the window size).\n",
        "It is implicitly considered in the way the output is interpreted."
      ]
    },
    {
      "cell_type": "markdown",
      "metadata": {
        "id": "ssViuThTmhwc"
      },
      "source": [
        "### Hint:\n",
        "\n",
        "b) From the paper we learn the following values:\n",
        "\n",
        "| Filter    | Delay      |\n",
        "|:----------|:-----------|\n",
        "| Lowpass   | __ samples |\n",
        "| Highpass  | __ samples |\n",
        "| Derivative| __ samples |\n",
        "| Overall   | __ samples |\n",
        "\n",
        "\n",
        "\n"
      ]
    },
    {
      "cell_type": "code",
      "execution_count": 4,
      "metadata": {
        "ExecuteTime": {
          "end_time": "2023-08-15T11:54:27.915029900Z",
          "start_time": "2023-08-15T11:54:27.899191300Z"
        },
        "deletable": false,
        "nbgrader": {
          "cell_type": "code",
          "checksum": "9820657d8fb7a7346ae8c105abb06b57",
          "grade": false,
          "grade_id": "Pan-Tompkins",
          "locked": false,
          "schema_version": 3,
          "solution": true,
          "task": false
        },
        "tags": [],
        "id": "7jHXDL0Umhwd"
      },
      "outputs": [],
      "source": [
        "#a) Pan-Tompkins filtering steps\n",
        "\n",
        "def lowpass_filter(ecg_signal):\n",
        "    # YOUR CODE HERE\n",
        "    a_lowpass = np.array([1,-2,1,0,0,0,0,0,0,0,0,0,0],dtype=np.float64)\n",
        "    b_lowpass = np.array([1/32,0,0,0,0,0,-2/32,0,0,0,0,0,1/32],dtype=np.float64)\n",
        "    ecg_signal = signal.lfilter(b_lowpass, a_lowpass, ecg_signal)\n",
        "    return ecg_signal\n",
        "\n",
        "def highpass_filter(ecg_signal):\n",
        "     # TODO: YOUR CODE HERE\n",
        "    # YOUR CODE HERE\n",
        "    b_highpass = np.array([0,0,0,0,0,0,0,0,0,0,0,0,0,0,0,0,0,0,0,0,0,0,0,0,0,0,0,0,0,0,0,0,0],dtype=np.float64)\n",
        "    b_highpass[0]=-1/32\n",
        "    b_highpass[16] = 1\n",
        "    b_highpass[17]=-1\n",
        "    b_highpass[32]=1/32\n",
        "    a_highpass = np.array([0,0,0,0,0,0,0,0,0,0,0,0,0,0,0,0,0,0,0,0,0,0,0,0,0,0,0,0,0,0,0,0,0],dtype=np.float64)\n",
        "    a_highpass[0]=1\n",
        "    a_highpass[1]=-1\n",
        "    ecg_signal = signal.lfilter(b_highpass, a_highpass, ecg_signal)\n",
        "    return ecg_signal\n",
        "\n",
        "def derivative_operator(ecg_signal):\n",
        "    # TODO: YOUR CODE HERE\n",
        "    # YOUR CODE HERE\n",
        "    b_diff = np.array([2/8,1/8,0,-1/8,-2/8],dtype=np.float64)\n",
        "    a_diff = np.array([1,0,0,0,0],dtype=np.float64)\n",
        "    ecg_signal = signal.lfilter(b_diff, a_diff, ecg_signal)\n",
        "    return(ecg_signal)\n",
        "\n",
        "def squaring(ecg_signal):\n",
        "    # TODO: YOUR CODE HERE\n",
        "    # YOUR CODE HERE\n",
        "    ecg_signal = np.square(ecg_signal)\n",
        "    return(ecg_signal)\n",
        "\n",
        "def moving_window_integrator(ecg_signal):\n",
        "    # TODO: YOUR CODE HERE\n",
        "    # YOUR CODE HERE\n",
        "    b_int = np.ones(30, dtype=np.float64) / 30\n",
        "    a_int = np.zeros(30,dtype=np.float64)\n",
        "    a_int[0]=1\n",
        "    ecg_signal = signal.lfilter(b_int, a_int, ecg_signal)\n",
        "    return(ecg_signal)\n",
        "\n",
        "#b) Calculate Group delay correction\n",
        "def group_delay_correction(ecg_signal):\n",
        "    # Correct the group delay by removing the correct amount of samples from the beginning of the output\n",
        "    # Pad the same number of zeros at the end to keep the length identical\n",
        "    # TODO: YOUR CODE HERE\n",
        "    # YOUR CODE HERE\n",
        "    lowpass_delay = 6\n",
        "    highpass_delay = 16\n",
        "    derivative_delay = 2\n",
        "    total_delay = lowpass_delay + highpass_delay + derivative_delay\n",
        "    ecg_signal = np.roll(ecg_signal, -total_delay)\n",
        "    ecg_signal[-total_delay:]=0\n",
        "    return(ecg_signal)\n",
        "\n",
        "#Pan Tompkins function\n",
        "#DO NOT EDIT, it is meant to work with your code from all the other previous functions\n",
        "def pan_tompkins(ecg_signal):\n",
        "    # Filter the signal (200 Hz) with all filter stages of the pan-tompkins.\n",
        "    # Take the filter parameter we calculated in the last exercise\n",
        "\n",
        "    SAMPLING_RATE = 200.  # Hz\n",
        "\n",
        "    # All Pan Tompkins steps based on previous functions\n",
        "    ecg_signal = lowpass_filter(ecg_signal)\n",
        "\n",
        "    ecg_signal = highpass_filter(ecg_signal)\n",
        "    ecg_signal = derivative_operator(ecg_signal)\n",
        "    ecg_signal = squaring(ecg_signal)\n",
        "    ecg_signal = moving_window_integrator(ecg_signal)\n",
        "    ecg_signal = group_delay_correction(ecg_signal)\n",
        "\n",
        "    return ecg_signal"
      ]
    },
    {
      "cell_type": "code",
      "execution_count": 5,
      "metadata": {
        "ExecuteTime": {
          "end_time": "2023-08-15T11:54:27.943030200Z",
          "start_time": "2023-08-15T11:54:27.915029900Z"
        },
        "tags": [],
        "id": "MQQDOy9nmhwd"
      },
      "outputs": [],
      "source": [
        "def load_data_file(path):\n",
        "    \"\"\"Load an example ecg file.\n",
        "\n",
        "    Args:\n",
        "        path: Path to the example .csv file\n",
        "\n",
        "    Returns:\n",
        "        time-array in seconds\n",
        "        ecg signal\n",
        "    \"\"\"\n",
        "    orig_sampling_rate = 256.  # Hz\n",
        "    pan_sampling_rate = 200.  # Hz\n",
        "    ecg = pd.read_csv(path, header=1, skiprows=0, index_col='timestamp')['ecg']\n",
        "\n",
        "    # resample the data to 200 Hz for the algorithms\n",
        "    ecg = pd.Series(signal.resample(ecg, int(len(ecg) * pan_sampling_rate/orig_sampling_rate)))\n",
        "\n",
        "    # Cut the first 5 seconds to avoid artifacts in this region\n",
        "    ecg = ecg.iloc[int(5*pan_sampling_rate):].reset_index(drop=True)\n",
        "\n",
        "    ecg.index /= pan_sampling_rate\n",
        "\n",
        "    return ecg.index.values, ecg.values"
      ]
    },
    {
      "cell_type": "code",
      "execution_count": 6,
      "metadata": {
        "ExecuteTime": {
          "end_time": "2023-08-15T11:54:28.331048Z",
          "start_time": "2023-08-15T11:54:27.943030200Z"
        },
        "deletable": false,
        "editable": false,
        "nbgrader": {
          "cell_type": "code",
          "checksum": "fc54581ac58af058c7f58dbbd54767f6",
          "grade": true,
          "grade_id": "Pan-Tompkins-Tests",
          "locked": true,
          "points": 4,
          "schema_version": 3,
          "solution": false,
          "task": false
        },
        "tags": [],
        "id": "xgSOFLIdmhwd",
        "outputId": "aa26308a-0b30-49c0-f223-b7544f47144e",
        "colab": {
          "base_uri": "https://localhost:8080/"
        }
      },
      "outputs": [
        {
          "output_type": "stream",
          "name": "stdout",
          "text": [
            "\t\t Pan Tompkins implementation is working correctly :) \n",
            "\n"
          ]
        }
      ],
      "source": [
        "################## RUN THIS BLOCK TO CHECK YOUR PAN-TOMPKINS IMPLEMENTATION ##################\n",
        "##~DO NOT MODIFY THE LINES OF CODE IN THIS BLOCK\n",
        "\n",
        "### BEGIN TESTS\n",
        "########## Test your lowpass filter\n",
        "assert np.array_equal([1.46875, 3.6875, 8.125],lowpass_filter([47,24,71])),f\"Your lowpass filter is not working correctly\"\n",
        "assert np.array_equal([0.03125,0.125,0.3125,0.625, 1.09375, 1.75, 2.71875],lowpass_filter([1,2,3,4,5,6,12])),f\"Your lowpass filter is not working correctly\"\n",
        "\n",
        "########## Test your highpass filter\n",
        "assert np.array_equal([-1.46875,-2.21875,-4.4375],highpass_filter([47,24,71])),f\"Your highpass filter is not working correctly\"\n",
        "assert np.array_equal([-0.03125,-0.09375,-0.1875,-0.3125,-0.46875,-0.65625,-1.03125],highpass_filter([1,2,3,4,5,6,12])),f\"Your highpass filter is not working correctly\"\n",
        "\n",
        "########## Test your derivative operator\n",
        "assert np.array_equal([11.75,11.875,20.75],derivative_operator([47,24,71])),f\"Your derivative operator is not working correctly\"\n",
        "assert np.array_equal([0.25,0.625,1.,1.25,1.25,1.25,2.5 ],derivative_operator([1,2,3,4,5,6,12])),f\"Your derivative operator is not working correctly\"\n",
        "\n",
        "########## Test your squaring operator\n",
        "assert np.array_equal(np.array([2209,576,5041]),squaring(np.array([47,24,71]))),f\"Your squaring is not working correctly\"\n",
        "assert np.array_equal(np.array([1,4,9,16,25,36,144]),squaring(np.array([1,2,3,4,5,6,12]))),f\"Your squaring is not working correctly\"\n",
        "\n",
        "########## Test your moving window operator\n",
        "assert np.array_equal(np.around([1.56666667,2.36666667,4.73333333],decimals=3),np.around(moving_window_integrator([47,24,71]),decimals=3)),f\"Your moving window operator is not working correctly\"\n",
        "assert np.array_equal(np.around([0.03333333,0.1,0.2,0.33333333,0.5,0.7,1.1],decimals=3),np.around(moving_window_integrator([1,2,3,4,5,6,12]),decimals=3)),f\"Your moving window operator is not working correctly\"\n",
        "\n",
        "########## Test your group delay correction\n",
        "padtest = np.ones(50)\n",
        "padtest[0:10] = np.zeros(10)\n",
        "assert np.sum(group_delay_correction(padtest)) ==26, f\"Your ecg signal has not been corrected properly (check the delay number).\"\n",
        "assert np.sum(group_delay_correction(padtest[-24:])) ==0, f\"Your ecg signal has not been correctly zero-padded at the end (check the delay number).\"\n",
        "\n",
        "### END TESTS\n",
        "\n",
        "print(\"\\t\\t Pan Tompkins implementation is working correctly :) \\n\")"
      ]
    },
    {
      "cell_type": "code",
      "execution_count": 7,
      "metadata": {
        "deletable": false,
        "editable": false,
        "nbgrader": {
          "cell_type": "code",
          "checksum": "603924c5e72e87f9b942ca71ad8c2d1a",
          "grade": true,
          "grade_id": "cell-fc4347b388d59c12",
          "locked": true,
          "points": 4,
          "schema_version": 3,
          "solution": false,
          "task": false
        },
        "tags": [],
        "id": "0CT9Ykxtmhwd",
        "outputId": "88868c10-0b92-4222-994b-f0cf27c3264c",
        "colab": {
          "base_uri": "https://localhost:8080/"
        }
      },
      "outputs": [
        {
          "output_type": "stream",
          "name": "stdout",
          "text": [
            "\t\t Pan Tompkins implementation is working correctly :) \n",
            "\n"
          ]
        }
      ],
      "source": [
        "################## RUN THIS BLOCK TO CHECK YOUR PAN-TOMPKINS IMPLEMENTATION ##################\n",
        "##~DO NOT MODIFY THE LINES OF CODE IN THIS BLOCK\n",
        "\n",
        "### BEGIN TESTS\n",
        "########## Test your moving window operator\n",
        "assert np.array_equal(np.around([1.56666667,2.36666667,4.73333333],decimals=3),np.around(moving_window_integrator([47,24,71]),decimals=3)),f\"Your moving window operator is not working correctly\"\n",
        "assert np.array_equal(np.around([0.03333333,0.1,0.2,0.33333333,0.5,0.7,1.1],decimals=3),np.around(moving_window_integrator([1,2,3,4,5,6,12]),decimals=3)),f\"Your moving window operator is not working correctly\"\n",
        "\n",
        "########## Test your group delay correction\n",
        "padtest = np.ones(50)\n",
        "padtest[0:10] = np.zeros(10)\n",
        "assert np.sum(group_delay_correction(padtest)) ==26, f\"Your ecg signal has not been corrected properly (check the delay number).\"\n",
        "assert np.sum(group_delay_correction(padtest[-24:])) ==0, f\"Your ecg signal has not been correctly zero-padded at the end (check the delay number).\"\n",
        "\n",
        "### END TESTS\n",
        "\n",
        "print(\"\\t\\t Pan Tompkins implementation is working correctly :) \\n\")"
      ]
    },
    {
      "cell_type": "code",
      "execution_count": 8,
      "metadata": {
        "ExecuteTime": {
          "end_time": "2023-08-15T11:54:28.563270100Z",
          "start_time": "2023-08-15T11:54:28.335056200Z"
        },
        "tags": [],
        "id": "KHvxNKAwmhwd",
        "outputId": "44577d4e-cb2a-40ca-a728-d4ff7cf7460e",
        "colab": {
          "base_uri": "https://localhost:8080/",
          "height": 411
        }
      },
      "outputs": [
        {
          "output_type": "display_data",
          "data": {
            "text/plain": [
              "<Figure size 1500x500 with 1 Axes>"
            ],
            "image/png": "[encoded data removed]"
          },
          "metadata": {}
        }
      ],
      "source": [
        "# Use the following code to plot the results of your Pan tompkins algorthm, PLOTS ARE NOT GRADED!!\n",
        "\n",
        "path = Path('./data/NilsPodX-9433_20191111_1039.csv')\n",
        "\n",
        "test_time, test_signal = load_data_file(path)\n",
        "filtered_signal = pan_tompkins(test_signal)\n",
        "\n",
        "plt.figure(figsize=(15, 5))\n",
        "plot_region = slice(100*200, 105*200)\n",
        "plt.plot(test_time[plot_region], test_signal[plot_region]/test_signal[plot_region].max(), label='original data')\n",
        "plt.plot(test_time[plot_region], filtered_signal[plot_region]/filtered_signal[plot_region].max(), label='ECG signal after filter')\n",
        "plt.title('data after Pan Tompkins')\n",
        "plt.xlabel('time [s]')\n",
        "plt.legend();\n"
      ]
    },
    {
      "cell_type": "markdown",
      "metadata": {
        "id": "Sc4wz3MWmhwd"
      },
      "source": [
        "## Ex 10.2: Pan-Tompkins 3 - Search strategy\n",
        "\n",
        "After the signal is filtered, the Pan-Tomkins algorithm uses multiple adaptable thresholds to detect the now visible QRS-equivalent blocks.\n",
        "For the sake of simplicity, we will use simple peak detection instead:\n",
        "\n",
        "a) Have a look at multiple example files and decide on a suitable threshold that should include ideally all QRS-equivalent blocks.\n",
        "\n",
        "b) Based on your knowledge of the physiological heart-rate of a human, calculate a lower limit for the peak-to-peak distance of two neighboring heartbeats.\n",
        "\n",
        "c) Use scipy’s `find_peaks` function with both thresholds to detect QRS-Complexes. Validate your results at least on one additional dataset, you did not look at before."
      ]
    },
    {
      "cell_type": "code",
      "execution_count": 9,
      "metadata": {
        "ExecuteTime": {
          "end_time": "2023-08-15T11:54:28.621223900Z",
          "start_time": "2023-08-15T11:54:28.571153300Z"
        },
        "deletable": false,
        "nbgrader": {
          "cell_type": "code",
          "checksum": "e66b4d288615fd6cb7b8f0a39513a45f",
          "grade": false,
          "grade_id": "Find-peaks",
          "locked": false,
          "schema_version": 3,
          "solution": true,
          "task": false
        },
        "tags": [],
        "id": "7SrVKG_4mhwe",
        "colab": {
          "base_uri": "https://localhost:8080/",
          "height": 449
        },
        "outputId": "a2dc0bcb-470c-45fc-db61-044aac05d894"
      },
      "outputs": [
        {
          "output_type": "display_data",
          "data": {
            "text/plain": [
              "<Figure size 640x480 with 1 Axes>"
            ],
            "image/png": "[encoded data removed]"
          },
          "metadata": {}
        }
      ],
      "source": [
        "#Find peaks function and thresholding\n",
        "def find_r_peaks(pan_tom_out):\n",
        "    # Create a function that finds the indivdual QRS-complexe in the output of the Pan Tompkins\n",
        "    # YOUR CODE HERE\n",
        "    threshold = 70000\n",
        "    min_distance = 55\n",
        "    # Use scipy's find_peaks to detect peaks\n",
        "    peaks, _ = signal.find_peaks(pan_tom_out, height=threshold, distance=min_distance)\n",
        "\n",
        "    return peaks\n",
        "\n",
        "# Test your function by plotting the results together with the raw pan tompkins output.\n",
        "# Check if the peaks on the graph are detected correctly\n",
        "\n",
        "threshold = 70000\n",
        "min_distance = 55  # Minimum distance between peaks in samples (220bpm at 200hz -> 55 samples)\n",
        "\n",
        "\n",
        "r_peaks = find_r_peaks(filtered_signal[plot_region])\n",
        "\n",
        "plt.figure()\n",
        "plt.plot(test_time[plot_region], filtered_signal[plot_region])\n",
        "plt.plot(test_time[plot_region.start + r_peaks], filtered_signal[plot_region.start + r_peaks], 's')\n",
        "plt.xlabel('time [s]');\n"
      ]
    },
    {
      "cell_type": "code",
      "execution_count": 10,
      "metadata": {
        "ExecuteTime": {
          "end_time": "2023-08-15T11:54:28.782670200Z",
          "start_time": "2023-08-15T11:54:28.617233Z"
        },
        "deletable": false,
        "editable": false,
        "nbgrader": {
          "cell_type": "code",
          "checksum": "68434b48586aca769487c64979518da7",
          "grade": true,
          "grade_id": "Find-peaks-Tests",
          "locked": true,
          "points": 4,
          "schema_version": 3,
          "solution": false,
          "task": false
        },
        "tags": [],
        "id": "PvmCDv99mhwe"
      },
      "outputs": [],
      "source": [
        "##### THIS BLOCK HAS AUTOMATED GRADING PURPOSES, LEAVE IT AS IT IS\n"
      ]
    },
    {
      "cell_type": "markdown",
      "metadata": {
        "id": "pPqGM0Kjmhwe"
      },
      "source": [
        "## Ex 10.3: Pan-Tompkins - Application 1: Heart rate\n",
        "\n",
        "With all QRS complexes detected we can directly calculate the heart rate.\n",
        "\n",
        "a) Calculate the heart-rate based on the R-R distances calculated in the previous step. Do **not** calculate the average heart-rate, but one value per R-R-Interval."
      ]
    },
    {
      "cell_type": "code",
      "execution_count": 11,
      "metadata": {
        "ExecuteTime": {
          "end_time": "2023-08-15T11:54:30.498683800Z",
          "start_time": "2023-08-15T11:54:30.482142100Z"
        },
        "deletable": false,
        "nbgrader": {
          "cell_type": "code",
          "checksum": "bd27d48055e670c13cfe4f48bd191788",
          "grade": false,
          "grade_id": "Heartrate-Calc",
          "locked": false,
          "schema_version": 3,
          "solution": true,
          "task": false
        },
        "tags": [],
        "id": "QqTPgHRWmhwe"
      },
      "outputs": [],
      "source": [
        "# Create a function that can calculate the heartrate based on the series of detected heartrates\n",
        "def freq_from_peaks(peaks, sampling_rate):\n",
        "    \"\"\"Calculate the bpm frequency of events based on a list of occurrences.\n",
        "\n",
        "    Args:\n",
        "        peaks: list of indices at which the event occurs\n",
        "        sampling_rate: sampling rate of the signal to transform the frequency to Hz\n",
        "\n",
        "    Returns:\n",
        "        All frequencies of events from the distances between the peaks in beats per minute (e.g. heartrate)\n",
        "    \"\"\"\n",
        "    peaks = peaks.astype(float) # This prevents errors in the following lines\n",
        "    # YOUR CODE HERE\n",
        "    peak_intervals = np.diff(peaks) / sampling_rate  # Time differences between peaks in seconds\n",
        "    freq = 60 / peak_intervals  # Convert to beats per minute\n",
        "\n",
        "    return freq"
      ]
    },
    {
      "cell_type": "code",
      "execution_count": 12,
      "metadata": {
        "ExecuteTime": {
          "end_time": "2023-08-15T11:54:31.801352800Z",
          "start_time": "2023-08-15T11:54:31.639117600Z"
        },
        "deletable": false,
        "editable": false,
        "nbgrader": {
          "cell_type": "code",
          "checksum": "ed69eeb12cf5d9b8978b38bab24a7956",
          "grade": true,
          "grade_id": "Heartrate-Calc-Tests",
          "locked": true,
          "points": 4,
          "schema_version": 3,
          "solution": false,
          "task": false
        },
        "tags": [],
        "id": "NLizpkLbmhwe",
        "colab": {
          "base_uri": "https://localhost:8080/",
          "height": 449
        },
        "outputId": "e9c359fc-a5c9-4d26-c30f-92b0882003a2"
      },
      "outputs": [
        {
          "output_type": "display_data",
          "data": {
            "text/plain": [
              "<Figure size 640x480 with 1 Axes>"
            ],
            "image/png": "[encoded data removed]"
          },
          "metadata": {}
        }
      ],
      "source": [
        "##~DO NOT MODIFY THE LINES OF CODE IN THIS BLOCK\n",
        "# Use the following lines of code to test and plot your heartrate function\n",
        "### BEGIN TESTS\n",
        "test_peaks = np.ones(700)\n",
        "test_peaks[2] = 100000\n",
        "test_peaks[155] = 100000\n",
        "test_peaks[278] = 100000\n",
        "test_peaks[402] = 100000\n",
        "test_peaks[512] = 100000\n",
        "test_peaks[645] = 100000\n",
        "test_peaks = find_r_peaks(test_peaks)\n",
        "\n",
        "assert np.array_equal(np.trunc(freq_from_peaks(test_peaks, 200)),[78, 97,  96, 109, 90]),f\"Your freq_from_peaks function is not working properly\"\n",
        "assert np.array_equal(np.trunc(freq_from_peaks(test_peaks, 45)),[17, 21, 21, 24, 20]),f\"Your freq_from_peaks function is not working properly\"\n",
        "\n",
        "### END TESTS\n",
        "\n",
        "r_peaks = find_r_peaks(filtered_signal)\n",
        "\n",
        "heartrate = freq_from_peaks(r_peaks, 200)\n",
        "\n",
        "plt.figure()\n",
        "plt.plot(test_time[r_peaks[1:]], heartrate)\n",
        "plt.xlabel('time [s]')\n",
        "plt.ylabel('heart-rate [bpm]');\n",
        "\n"
      ]
    },
    {
      "cell_type": "markdown",
      "metadata": {
        "id": "m5uym_Gdmhwe"
      },
      "source": [
        "## Ex 10.4: Cold Face Test\n",
        "\n",
        "The provided data are actually ECG recording of subjects undergoing a *cold face test*.\n",
        "During the test, a cold face mask is applied to the participants face.\n",
        "This triggers the so called “Diving Reflex”, which is usually associated with a reduction in heart rate.\n",
        "This test can if the parasympathetic nervous system of the subject works as expected.\n",
        "\n",
        "If you are interested in more information about the cold face test and the diving reflex have a look [here](https://en.wikipedia.org/wiki/Diving_reflex).\n",
        "\n",
        "a) Create a function that extracts the Cold face test start time for all subjects from the file `./data/cft.csv`.\n",
        "\n",
        "Note, that the function `load_data_file` removes the first 5 seconds of the signal.\n",
        "Take this into account here, so that we can find the correct region in the signal later.\n",
        "\n",
        "b) For the test subject used in the previous exercise (First recording in the cft file) extract the heart-rate in the region from 30 seconds before until 1 min after the cold face test. Calculate the mean heart-rate in the 30 seconds before, during and the 40 seconds after the test.\n",
        "\n",
        "c) Set up a pipeline to perform all above calculations for all other recordings.\n",
        "\n",
        "d) Visualize and comment the box plots representing the distribution of relative heart-rates in each of the 3 phases."
      ]
    },
    {
      "cell_type": "code",
      "execution_count": 13,
      "metadata": {
        "ExecuteTime": {
          "end_time": "2023-08-15T11:54:34.848190200Z",
          "start_time": "2023-08-15T11:54:34.819470900Z"
        },
        "deletable": false,
        "nbgrader": {
          "cell_type": "code",
          "checksum": "349a478662da798007e8c22d3834351c",
          "grade": false,
          "grade_id": "cft-read",
          "locked": false,
          "schema_version": 3,
          "solution": true,
          "task": false
        },
        "tags": [],
        "id": "93K6cx5vmhwe"
      },
      "outputs": [],
      "source": [
        "#a) Load the file ./data/cft.csv and extract the row corresponding to the recording you are working with\n",
        "def read_cft_start(path):\n",
        "    \"\"\"Extract the cft start time for all subjects\n",
        "    DO NOT CHANGE THE ORDER GIVEN IN cft.csv, IT IS IMPORTANT FOR GRADING PURPOSES\n",
        "\n",
        "    Args:\n",
        "        path: The path to the subject-specific file\n",
        "\n",
        "    Returns:\n",
        "        cft_start_subjects: A data frame with the columns \"recording\" and \"cft_start\" that contains the file number and\n",
        "        its corresponding cold face test start time respectively. (Don't forget to remove 5 seconds from all the start\n",
        "        times)\n",
        "\n",
        "    Example output:\n",
        "            recording  cft_start\n",
        "0  9433_20191111_1039        145\n",
        "1  9433_20191111_1101        175\n",
        "2  ...                       ...\n",
        "...\n",
        "\n",
        "   \"\"\"\n",
        "    # YOUR CODE HERE\n",
        "    cft_start_subjects = pd.read_csv(path)\n",
        "\n",
        "    # Adjust the CFT start times by subtracting 5 seconds\n",
        "    cft_start_subjects[\"cft_start\"] = cft_start_subjects[\"cft_start\"] - 5\n",
        "    return cft_start_subjects\n"
      ]
    },
    {
      "cell_type": "code",
      "execution_count": 14,
      "metadata": {
        "ExecuteTime": {
          "end_time": "2023-08-15T11:54:37.035375400Z",
          "start_time": "2023-08-15T11:54:37.003803900Z"
        },
        "deletable": false,
        "editable": false,
        "nbgrader": {
          "cell_type": "code",
          "checksum": "4c9793c8a1a5aeb5bed05fbc81da3598",
          "grade": true,
          "grade_id": "cft-read-test",
          "locked": true,
          "points": 2,
          "schema_version": 3,
          "solution": false,
          "task": false
        },
        "tags": [],
        "id": "EQj8372Emhwe",
        "colab": {
          "base_uri": "https://localhost:8080/"
        },
        "outputId": "7a66805d-f0a4-4da8-ec07-e640d619e224"
      },
      "outputs": [
        {
          "output_type": "stream",
          "name": "stdout",
          "text": [
            "\n",
            "\t\t\t\t All tests Complete :) \n",
            "\n"
          ]
        }
      ],
      "source": [
        "##~DO NOT MODIFY THE LINES OF CODE IN THIS BLOCK\n",
        "#Test your read_cft_start function implementation\n",
        "\n",
        "\n",
        "### BEGIN TESTS\n",
        "cftpath = './data/cft.csv'\n",
        "cft_start_subjects = read_cft_start(cftpath)\n",
        "\n",
        "assert not cft_start_subjects.iloc[0,1]==180,f\"Your function is not working properly, you probably forgot to substract 5 seconds from the start time\"\n",
        "assert cft_start_subjects.iloc[3,1]==235,f\"Your function is not working properly\"\n",
        "assert cft_start_subjects.iloc[5,1]==165,f\"Your function is not working properly\"\n",
        "assert cft_start_subjects.iloc[0,0]==\"9433_20191111_1039\",f\"Your function is not working properly, check if the names are being saved properly\"\n",
        "assert cft_start_subjects.iloc[6,0]==\"9E82_20191111_1111\",f\"Your function is not working properly, check if the names are being saved properly\"\n",
        "### END TESTS\n",
        "\n",
        "print(\"\\n\\t\\t\\t\\t All tests Complete :) \\n\")"
      ]
    },
    {
      "cell_type": "code",
      "execution_count": 73,
      "metadata": {
        "ExecuteTime": {
          "end_time": "2023-08-15T11:54:59.471945400Z",
          "start_time": "2023-08-15T11:54:59.401756200Z"
        },
        "deletable": false,
        "nbgrader": {
          "cell_type": "code",
          "checksum": "f0b2ea951b6ee626fe082e538c90a910",
          "grade": false,
          "grade_id": "cft-heartrate",
          "locked": false,
          "schema_version": 3,
          "solution": true,
          "task": false
        },
        "tags": [],
        "id": "NuXtUTxHmhwe"
      },
      "outputs": [],
      "source": [
        "# b) Create a function that extracts the 3 relevant regions from the detected r-Peaks\n",
        "# calculates the heartrate for each region and takes the average over them\n",
        "\n",
        "def extract_cft_heart_rates(r_peaks, sampling_rate, cft_start):\n",
        "    \"\"\"Extract the heartrates around the cold face test.\n",
        "\n",
        "    Args:\n",
        "        r_peaks: series of r peaks detected in the signal\n",
        "        sampling_rate: The sampling rate of the recording (Hz)\n",
        "        cft_start: The start of the cold face test in seconds\n",
        "\n",
        "    Returns:\n",
        "        average heart-rates for the following regions:\n",
        "        -30 to cft_start, cft_start to cft_end (cft_start+60), cft_end to cft_end + 40\n",
        "    \"\"\"\n",
        "    # YOUR CODE HERE\n",
        "    # Convert r_peaks (samples) to time (seconds)\n",
        "    r_peaks_time = np.array(r_peaks) / sampling_rate\n",
        "\n",
        "    # Define the three regions (in seconds)\n",
        "    region1_start = cft_start - 30\n",
        "    region1_end = cft_start -1\n",
        "\n",
        "    region2_start = cft_start\n",
        "    region2_end = cft_start + 59\n",
        "\n",
        "    region3_start = cft_start + 60\n",
        "    region3_end = cft_start + 99\n",
        "\n",
        "    # Helper function to calculate heart rate in a region\n",
        "    def calculate_heart_rate(start, end):\n",
        "        # Filter r_peaks within the region\n",
        "        beats_in_region = r_peaks_time[(r_peaks_time >= start) & (r_peaks_time < end)]\n",
        "        duration = end-start\n",
        "        #print(\"beats_in_region=\",beats_in_region)\n",
        "        heart_rate=np.size(beats_in_region)/duration*60\n",
        "        return heart_rate\n",
        "\n",
        "    # Calculate heart rates for each region\n",
        "    region1_hr = np.rint(calculate_heart_rate(region1_start, region1_end))\n",
        "    region2_hr = np.rint(calculate_heart_rate(region2_start, region2_end))\n",
        "    region3_hr = np.rint(calculate_heart_rate(region3_start, region3_end))\n",
        "    #print(\"region1=\",region1_hr)\n",
        "    heart_rates = np.array([region1_hr, region2_hr, region3_hr])\n",
        "    #print(\"hearth_rates final =\",heart_rates)\n",
        "    # Return the average heart rates as an array\n",
        "    return heart_rates\n",
        "\n",
        "\n"
      ]
    },
    {
      "cell_type": "code",
      "execution_count": 74,
      "metadata": {
        "ExecuteTime": {
          "end_time": "2023-08-15T11:55:01.036183900Z",
          "start_time": "2023-08-15T11:55:00.627329100Z"
        },
        "deletable": false,
        "editable": false,
        "nbgrader": {
          "cell_type": "code",
          "checksum": "a53dfd42c5babbfb9ce3670f17bccb25",
          "grade": true,
          "grade_id": "cft-heartrate-test",
          "locked": true,
          "points": 6,
          "schema_version": 3,
          "solution": false,
          "task": false
        },
        "tags": [],
        "id": "Y8-TPcALmhwe",
        "colab": {
          "base_uri": "https://localhost:8080/",
          "height": 263
        },
        "outputId": "0f8e20eb-0231-4bd9-9d25-e8d74a3a1a50"
      },
      "outputs": [
        {
          "output_type": "stream",
          "name": "stdout",
          "text": [
            "[85. 81. 86.]\n"
          ]
        },
        {
          "output_type": "error",
          "ename": "AssertionError",
          "evalue": "Your calculated heartrates do not match the required results",
          "traceback": [
            "\u001b[0;31m---------------------------------------------------------------------------\u001b[0m",
            "\u001b[0;31mAssertionError\u001b[0m                            Traceback (most recent call last)",
            "\u001b[0;32m<ipython-input-74-5feab280f640>\u001b[0m in \u001b[0;36m<cell line: 8>\u001b[0;34m()\u001b[0m\n\u001b[1;32m      6\u001b[0m \u001b[0;31m### BEGIN TESTS\u001b[0m\u001b[0;34m\u001b[0m\u001b[0;34m\u001b[0m\u001b[0m\n\u001b[1;32m      7\u001b[0m \u001b[0;31m#Test your outputs\u001b[0m\u001b[0;34m\u001b[0m\u001b[0;34m\u001b[0m\u001b[0m\n\u001b[0;32m----> 8\u001b[0;31m \u001b[0;32massert\u001b[0m \u001b[0mnp\u001b[0m\u001b[0;34m.\u001b[0m\u001b[0marray_equal\u001b[0m\u001b[0;34m(\u001b[0m\u001b[0;34m[\u001b[0m\u001b[0;36m78\u001b[0m\u001b[0;34m,\u001b[0m\u001b[0;36m86\u001b[0m\u001b[0;34m,\u001b[0m\u001b[0;36m76\u001b[0m\u001b[0;34m]\u001b[0m\u001b[0;34m,\u001b[0m\u001b[0mnp\u001b[0m\u001b[0;34m.\u001b[0m\u001b[0mtrunc\u001b[0m\u001b[0;34m(\u001b[0m\u001b[0mextract_cft_heart_rates\u001b[0m\u001b[0;34m(\u001b[0m\u001b[0mr_peaks\u001b[0m\u001b[0;34m,\u001b[0m \u001b[0;36m200\u001b[0m\u001b[0;34m,\u001b[0m \u001b[0mcft_start_subjects\u001b[0m\u001b[0;34m.\u001b[0m\u001b[0miloc\u001b[0m\u001b[0;34m[\u001b[0m\u001b[0;36m1\u001b[0m\u001b[0;34m,\u001b[0m\u001b[0;36m1\u001b[0m\u001b[0;34m]\u001b[0m\u001b[0;34m)\u001b[0m\u001b[0;34m)\u001b[0m\u001b[0;34m)\u001b[0m\u001b[0;34m,\u001b[0m\u001b[0;34mf\"Your calculated heartrates do not match the required results\"\u001b[0m\u001b[0;34m\u001b[0m\u001b[0;34m\u001b[0m\u001b[0m\n\u001b[0m\u001b[1;32m      9\u001b[0m \u001b[0;34m\u001b[0m\u001b[0m\n\u001b[1;32m     10\u001b[0m \u001b[0;32massert\u001b[0m \u001b[0mnp\u001b[0m\u001b[0;34m.\u001b[0m\u001b[0marray_equal\u001b[0m\u001b[0;34m(\u001b[0m\u001b[0;34m[\u001b[0m\u001b[0;36m84\u001b[0m\u001b[0;34m,\u001b[0m\u001b[0;36m85\u001b[0m\u001b[0;34m,\u001b[0m\u001b[0;36m77\u001b[0m\u001b[0;34m]\u001b[0m\u001b[0;34m,\u001b[0m\u001b[0mnp\u001b[0m\u001b[0;34m.\u001b[0m\u001b[0mtrunc\u001b[0m\u001b[0;34m(\u001b[0m\u001b[0mextract_cft_heart_rates\u001b[0m\u001b[0;34m(\u001b[0m\u001b[0mr_peaks\u001b[0m\u001b[0;34m,\u001b[0m \u001b[0;36m200\u001b[0m\u001b[0;34m,\u001b[0m \u001b[0mcft_start_subjects\u001b[0m\u001b[0;34m.\u001b[0m\u001b[0miloc\u001b[0m\u001b[0;34m[\u001b[0m\u001b[0;36m5\u001b[0m\u001b[0;34m,\u001b[0m\u001b[0;36m1\u001b[0m\u001b[0;34m]\u001b[0m\u001b[0;34m)\u001b[0m\u001b[0;34m)\u001b[0m\u001b[0;34m)\u001b[0m\u001b[0;34m,\u001b[0m\u001b[0;34mf\"Your calculated heartrates do not match the required results\"\u001b[0m\u001b[0;34m\u001b[0m\u001b[0;34m\u001b[0m\u001b[0m\n",
            "\u001b[0;31mAssertionError\u001b[0m: Your calculated heartrates do not match the required results"
          ]
        }
      ],
      "source": [
        "##~DO NOT MODIFY THE LINES OF CODE IN THIS BLOCK\n",
        "# Test your extract_cft_heart_rates function\n",
        "heart_rates = extract_cft_heart_rates(r_peaks, 200, cft_start_subjects.iloc[0,1])\n",
        "print(heart_rates)\n",
        "\n",
        "### BEGIN TESTS\n",
        "#Test your outputs\n",
        "assert np.array_equal([78,86,76],np.trunc(extract_cft_heart_rates(r_peaks, 200, cft_start_subjects.iloc[1,1]))),f\"Your calculated heartrates do not match the required results\"\n",
        "\n",
        "assert np.array_equal([84,85,77],np.trunc(extract_cft_heart_rates(r_peaks, 200, cft_start_subjects.iloc[5,1]))),f\"Your calculated heartrates do not match the required results\"\n",
        "\n",
        "### END TESTS\n",
        "\n",
        "print(\"\\n\\t\\t\\t\\t All tests passed \\n\")"
      ]
    },
    {
      "cell_type": "code",
      "execution_count": null,
      "metadata": {
        "deletable": false,
        "nbgrader": {
          "cell_type": "code",
          "checksum": "302a290fccad32dc552cfb4a817f9dc7",
          "grade": false,
          "grade_id": "All-HR-Calc",
          "locked": false,
          "schema_version": 3,
          "solution": true,
          "task": false
        },
        "tags": [],
        "id": "g5tmdaqImhwf"
      },
      "outputs": [],
      "source": [
        "# c) Create a loop over all subjects and repeat the calculation\n",
        "# Accumulate all results in a pandas dataframe\n",
        "\n",
        "def heart_rates_calculator(cft_start_subjects):\n",
        "    \"\"\"\n",
        "    Extract the average heartrates of all the test subjects during the 3 specified phases:\n",
        "    The First column should have the average of the first phase\n",
        "    The Second column should have the average of the second phase\n",
        "    The Third column should have the average of the third phase\n",
        "\n",
        "    The INDEX NAME of the dataframe should be the subject number (not just an additional column)\n",
        "\n",
        "    Returns:\n",
        "    Pandas dataframe with 3 columns corresponding to the 3 phases HR average for each subject\n",
        "\n",
        "    Example Output:\n",
        "\n",
        "                        p1         p2         p3\n",
        "9433_20191111_1039  88.680265  81.795984  86.503153\n",
        "9433_20191111_1101  84.625673  75.080298  81.764850\n",
        "...\n",
        "...\n",
        "\n",
        "    \"\"\"\n",
        "    all_heart_rates = pd.DataFrame()\n",
        "\n",
        "    # YOUR CODE HERE\n",
        "    raise NotImplementedError()\n",
        "    return all_heart_rates\n",
        "\n",
        "\n"
      ]
    },
    {
      "cell_type": "code",
      "execution_count": null,
      "metadata": {
        "deletable": false,
        "editable": false,
        "nbgrader": {
          "cell_type": "code",
          "checksum": "a74752530db78978480159ca2e21b768",
          "grade": true,
          "grade_id": "All-HR-Calc-tests",
          "locked": true,
          "points": 6,
          "schema_version": 3,
          "solution": false,
          "task": false
        },
        "tags": [],
        "id": "21yPakEumhwf"
      },
      "outputs": [],
      "source": [
        "##~DO NOT MODIFY THE LINES OF CODE IN THIS BLOCK\n",
        "#Test your heart_rates_calculator function implementation here\n",
        "all_heart_rates = heart_rates_calculator(cft_start_subjects)\n",
        "print(all_heart_rates)\n",
        "\n",
        "\n",
        "#Test your outputs\n",
        "\n",
        "### BEGIN TESTS\n",
        "\n",
        "##Change to use iloc with names\n",
        "assert isinstance(all_heart_rates[\"p1\"], pd.core.series.Series)\n",
        "assert np.trunc(all_heart_rates.loc[\"9433_20191111_1039\", \"p1\"])==88, f\"The output calculated does not match the desired results\"\n",
        "assert np.trunc(all_heart_rates.loc[\"9433_20191111_1137\", \"p3\"])==68, f\"The output calculated does not match the desired results\"\n",
        "assert np.trunc(all_heart_rates.loc[\"9E82_20191111_1111\", \"p2\"])==63, f\"The output calculated does not match the desired results\"\n",
        "assert np.trunc(all_heart_rates.loc[\"9E82_20191111_1138\", \"p3\"])==76, f\"The output calculated does not match the desired results\"\n",
        "\n",
        "### END TESTS\n",
        "\n",
        "print(\"\\n\\t\\t\\t\\t Test complete :) \\n\")"
      ]
    },
    {
      "cell_type": "code",
      "execution_count": null,
      "metadata": {
        "vscode": {
          "languageId": "plaintext"
        },
        "id": "wDZn3o0zmhwf"
      },
      "outputs": [],
      "source": [
        "# d) You can visualize your previous results in boxplots with the following code\n",
        "#PLOTS aRE NOT GRADED!! THIS IS FOR YOUR OWN UNDERSTANDING :)\n",
        "rel_heart_rates = pd.DataFrame()\n",
        "rel_heart_rates[\"p1\"] = all_heart_rates[\"p1\"]/all_heart_rates[\"p1\"]\n",
        "rel_heart_rates[\"p2\"] = all_heart_rates[\"p2\"]/all_heart_rates[\"p1\"]\n",
        "rel_heart_rates[\"p3\"] = all_heart_rates[\"p3\"]/all_heart_rates[\"p1\"]\n",
        "\n",
        "rates_df = pd.DataFrame(rel_heart_rates * 100)\n",
        "\n",
        "\n",
        "fig, (ax1, ax2) = plt.subplots(ncols=2, sharey=True, figsize=(12, 5))\n",
        "rates_df.plot.box(ax=ax1)\n",
        "ax1.set_title('Average heart rates over all subjects')\n",
        "ax1.set_ylabel('relative heartrate [%]')\n",
        "ax1.set_xlabel('CFT phases')\n",
        "\n",
        "rates_df.T.plot.line(style='-o', legend=False, ax=ax2)\n",
        "ax2.set_title('Heart Rates of individual subjects')\n",
        "ax2.set_xlabel('CFT phases')\n",
        "\n",
        "plt.tight_layout()\n"
      ]
    },
    {
      "cell_type": "code",
      "execution_count": null,
      "metadata": {
        "id": "qoGsuL61mhwf"
      },
      "outputs": [],
      "source": []
    },
    {
      "cell_type": "code",
      "execution_count": null,
      "metadata": {
        "id": "q-PeXKKfmhwf"
      },
      "outputs": [],
      "source": []
    }
  ],
  "metadata": {
    "kernelspec": {
      "display_name": "Python 3 (ipykernel)",
      "language": "python",
      "name": "python3"
    },
    "language_info": {
      "codemirror_mode": {
        "name": "ipython",
        "version": 3
      },
      "file_extension": ".py",
      "mimetype": "text/x-python",
      "name": "python",
      "nbconvert_exporter": "python",
      "pygments_lexer": "ipython3",
      "version": "3.9.13"
    },
    "colab": {
      "provenance": [],
      "include_colab_link": true
    }
  },
  "nbformat": 4,
  "nbformat_minor": 0
}